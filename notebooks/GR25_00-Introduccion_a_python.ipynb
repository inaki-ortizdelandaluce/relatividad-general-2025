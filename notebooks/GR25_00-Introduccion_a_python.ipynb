{
  "nbformat": 4,
  "nbformat_minor": 0,
  "metadata": {
    "colab": {
      "name": "Introducción a Python",
      "provenance": [],
      "include_colab_link": true
    },
    "kernelspec": {
      "name": "python3",
      "display_name": "Python 3"
    }
  },
  "cells": [
    {
      "cell_type": "markdown",
      "metadata": {
        "id": "view-in-github",
        "colab_type": "text"
      },
      "source": [
        "<a href=\"https://colab.research.google.com/github/inaki-ortizdelandaluce/relatividad-general-2025/blob/main/notebooks/GR25_00-Introduccion_a_python.ipynb\" target=\"_parent\"><img src=\"https://colab.research.google.com/assets/colab-badge.svg\" alt=\"Open In Colab\"/></a>"
      ]
    },
    {
      "cell_type": "markdown",
      "metadata": {
        "id": "JbVT11Y8CbAu"
      },
      "source": [
        "# Bienvenidos"
      ]
    },
    {
      "cell_type": "markdown",
      "metadata": {
        "id": "kw1B2R_WCU7X"
      },
      "source": [
        "Bienvenidos a el módulo de introducción a Python con Google Colab. En este notebook, aprenderemos las bases del lenguaje de programación Python así como los paquetes NumPy y Matplotlib, dos herramientas fundamentales para la computación científica en Python."
      ]
    },
    {
      "cell_type": "markdown",
      "metadata": {
        "id": "YV4sYCn8EPwb"
      },
      "source": [
        "# Notebooks"
      ]
    },
    {
      "cell_type": "markdown",
      "metadata": {
        "id": "2HuuwOcQEYQI"
      },
      "source": [
        "Vamos a usar Jupyter notebooks y Google Colab para practicar tareas habituales de ciencia de datos. Los notebooks son una manera estupenda de mezclar código Python con otros contenidos como páginas HTML, imágenes y ecuaciones escritas en LaTeX. Colab permite ejecutar Jupyter notebooks en la nube de manera gratuita sin ninguna instalación previa, solo necesitáis una cuenta de Google."
      ]
    },
    {
      "cell_type": "markdown",
      "metadata": {
        "id": "t0XmMkPuGGOs"
      },
      "source": [
        "El documento que estás leyendo no es una página estática, sino un entorno interactivo, que te permite escribir y ejecutar código. Los notebooks incluyen celdas de código, bloques de una o más instrucciones Python. Por ejemplo, aquí hay una celda que almacena el resultado de un cálculo (el número de segundos que tiene un día) en una variable e imprime su valor:"
      ]
    },
    {
      "cell_type": "code",
      "metadata": {
        "id": "qeGAvLq1ALJ4",
        "colab": {
          "base_uri": "https://localhost:8080/",
          "height": 34
        },
        "outputId": "da0a439d-bbbe-4bca-ae88-9681dc307b33"
      },
      "source": [
        "seconds_in_a_day = 24 * 60 * 60\n",
        "seconds_in_a_day"
      ],
      "execution_count": null,
      "outputs": [
        {
          "output_type": "execute_result",
          "data": {
            "text/plain": [
              "86400"
            ]
          },
          "metadata": {
            "tags": []
          },
          "execution_count": 63
        }
      ]
    },
    {
      "cell_type": "markdown",
      "metadata": {
        "id": "njoPs3q1G75-"
      },
      "source": [
        "Ejecuta el botón \"play\" para ejecutar la celda y deberías ver el resultado de tu cálculo. De manera alternativa, puedes ejecutar la celda tecleando Ctrl + Enter si estás en Windows ó Linux, o Command + Enter si estás en Mac."
      ]
    },
    {
      "cell_type": "markdown",
      "metadata": {
        "id": "NvdYaBgHHdbw"
      },
      "source": [
        "Las variables que definiste en una celda pueden luego ser usadas en otras celdas:"
      ]
    },
    {
      "cell_type": "code",
      "metadata": {
        "id": "s1kp5Zv0JBSx",
        "colab": {
          "base_uri": "https://localhost:8080/",
          "height": 34
        },
        "outputId": "5c3d203f-046d-4555-d398-36e91dbe685c"
      },
      "source": [
        "seconds_in_a_week = 7 * seconds_in_a_day\n",
        "seconds_in_a_week"
      ],
      "execution_count": null,
      "outputs": [
        {
          "output_type": "execute_result",
          "data": {
            "text/plain": [
              "604800"
            ]
          },
          "metadata": {
            "tags": []
          },
          "execution_count": 20
        }
      ]
    },
    {
      "cell_type": "markdown",
      "metadata": {
        "id": "uALfY4q1JFQ0"
      },
      "source": [
        "Nota que el orden de ejecución es importante. Por ejemplo, si no ejecutamos la celda que almacena *seconds_in_a_day* de antemano, la celda de arriba generará un error, ya que depende de esta variable. Para asegurarte de que ejecutas todas las celdas en el orden correcto, también puedes hacer clic en \"Runtime\" en el menú superior, luego \"Run all\"."
      ]
    },
    {
      "cell_type": "markdown",
      "metadata": {
        "id": "HvXs_KaoRWQ9"
      },
      "source": [
        "**Ejercicio.** Añade una celda debajo de esta celda: haz clic en esta celda y luego haz clic en \"+ Code\". En la nueva celda, calcula el número de segundos en un año reutilizando la variable *seconds_in_a_day*. Ejecuta la nueva celda."
      ]
    },
    {
      "cell_type": "markdown",
      "metadata": {
        "id": "qyLSwlxnJqXX"
      },
      "source": [
        "# Python"
      ]
    },
    {
      "cell_type": "markdown",
      "metadata": {
        "id": "3ltwm91eJyQM"
      },
      "source": [
        "Python es uno de los lenguajes de programación más populares para la computación científica, tanto en el ámbito académico como en la industria. Como tal, es esencial aprender este lenguaje para cualquier persona interesada en la computación científica. En esta sección, repasaremos los fundamentos de Python."
      ]
    },
    {
      "cell_type": "markdown",
      "metadata": {
        "id": "3EKvP6jiMZ9H"
      },
      "source": [
        "## Operaciones aritméticas"
      ]
    },
    {
      "cell_type": "markdown",
      "metadata": {
        "id": "DDjs0-7YQ80h"
      },
      "source": [
        "Python soporta los operadores aritméticos habituales: + (suma), * (multiplicación), / (división), ** (potencia), // (división entera)."
      ]
    },
    {
      "cell_type": "markdown",
      "metadata": {
        "id": "UhcbBQUiStHG"
      },
      "source": [
        "## Listas"
      ]
    },
    {
      "cell_type": "markdown",
      "metadata": {
        "id": "RkPn1IjNTCxA"
      },
      "source": [
        "Las listas son un tipo de contenedor para secuencias ordenadas de elementos. Las listas pueden inicializarse vacías"
      ]
    },
    {
      "cell_type": "code",
      "metadata": {
        "id": "OrnV1ySAPtHp"
      },
      "source": [
        "my_list = []"
      ],
      "execution_count": null,
      "outputs": []
    },
    {
      "cell_type": "markdown",
      "metadata": {
        "id": "OwRqyYI9XnPK"
      },
      "source": [
        "o con algunos elementos iniciales"
      ]
    },
    {
      "cell_type": "code",
      "metadata": {
        "id": "Uq5YTJ1JXpOX"
      },
      "source": [
        "my_list = [1, 2, 3]"
      ],
      "execution_count": null,
      "outputs": []
    },
    {
      "cell_type": "markdown",
      "metadata": {
        "id": "Hk2WmojJXyyz"
      },
      "source": [
        "Las listas tienen un tamaño dinámico y se les pueden añadir (agregar) elementos"
      ]
    },
    {
      "cell_type": "code",
      "metadata": {
        "id": "QFTNqiYiXxAh",
        "colab": {
          "base_uri": "https://localhost:8080/",
          "height": 34
        },
        "outputId": "720d3340-7df7-49b8-c920-964d2e350af5"
      },
      "source": [
        "my_list.append(4)\n",
        "my_list"
      ],
      "execution_count": null,
      "outputs": [
        {
          "output_type": "execute_result",
          "data": {
            "text/plain": [
              "[1, 2, 3, 4]"
            ]
          },
          "metadata": {
            "tags": []
          },
          "execution_count": 9
        }
      ]
    },
    {
      "cell_type": "markdown",
      "metadata": {
        "id": "IUnJuqQ2Yhzw"
      },
      "source": [
        "Podemos acceder a elementos individuales de una lista (la indexación comienza desde 0)"
      ]
    },
    {
      "cell_type": "code",
      "metadata": {
        "id": "pyFxyZPVYpG_",
        "colab": {
          "base_uri": "https://localhost:8080/",
          "height": 34
        },
        "outputId": "7efb0bc1-25fb-4849-8d3a-cfa62b94a175"
      },
      "source": [
        "my_list[2]"
      ],
      "execution_count": null,
      "outputs": [
        {
          "output_type": "execute_result",
          "data": {
            "text/plain": [
              "3"
            ]
          },
          "metadata": {
            "tags": []
          },
          "execution_count": 10
        }
      ]
    },
    {
      "cell_type": "markdown",
      "metadata": {
        "id": "hPMrIDYsdgMP"
      },
      "source": [
        "Podemos acceder a \"subconjuntos\" de una lista usando `my_list[i:j]` donde `i` es el inicio del subconjunto (de nuevo, la indexación comienza desde 0) y `j` el final del subconjunto. Por ejemplo:"
      ]
    },
    {
      "cell_type": "code",
      "metadata": {
        "id": "Ichf9p0gd7tJ",
        "colab": {
          "base_uri": "https://localhost:8080/",
          "height": 34
        },
        "outputId": "5f4ec085-431e-4e16-aab1-8708f2c931d4"
      },
      "source": [
        "my_list[1:3]"
      ],
      "execution_count": null,
      "outputs": [
        {
          "output_type": "execute_result",
          "data": {
            "text/plain": [
              "[2, 3]"
            ]
          },
          "metadata": {
            "tags": []
          },
          "execution_count": 14
        }
      ]
    },
    {
      "cell_type": "markdown",
      "metadata": {
        "id": "KMbzH4tzQ9rI"
      },
      "source": [
        "Omitir el segundo índice significa que el subconjunto debe ir hasta el final de la lista"
      ]
    },
    {
      "cell_type": "code",
      "metadata": {
        "id": "O7wCthKnREKV",
        "colab": {
          "base_uri": "https://localhost:8080/",
          "height": 34
        },
        "outputId": "5a04ea59-7a54-4b09-a8ee-3cd6171e8c7a"
      },
      "source": [
        "my_list[1:]"
      ],
      "execution_count": null,
      "outputs": [
        {
          "output_type": "execute_result",
          "data": {
            "text/plain": [
              "[2, 3, 4]"
            ]
          },
          "metadata": {
            "tags": []
          },
          "execution_count": 64
        }
      ]
    },
    {
      "cell_type": "markdown",
      "metadata": {
        "id": "C5Aeu7PUebrK"
      },
      "source": [
        "Podemos comprobar si un elemento está en la lista usando `in`"
      ]
    },
    {
      "cell_type": "code",
      "metadata": {
        "id": "a_P5NCi-efvb",
        "colab": {
          "base_uri": "https://localhost:8080/",
          "height": 34
        },
        "outputId": "5012122e-f02c-4474-ec51-6ef8519e5733"
      },
      "source": [
        "5 in my_list"
      ],
      "execution_count": null,
      "outputs": [
        {
          "output_type": "execute_result",
          "data": [
            {
              "text/plain": [
               "False"
              ]
            }
          ],
          "metadata": {},
          "execution_count": 15
        }
      ]
    },
    {
      "cell_type": "markdown",
      "metadata": {
        "id": "LypIsP5gkl10"
      },
      "source": [
        "La longitud de una lista se puede obtener usando la función `len`"
      ]
    },
    {
      "cell_type": "code",
      "metadata": {
        "id": "ac0FMsaKkrWc",
        "colab": {
          "base_uri": "https://localhost:8080/",
          "height": 34
        },
        "outputId": "0a7418d2-67a1-419c-e12b-e6ffb3b4b66d"
      },
      "source": [
        "len(my_list)"
      ],
      "execution_count": null,
      "outputs": [
        {
          "output_type": "execute_result",
          "data": {
            "text/plain": [
              "4"
            ]
          },
          "metadata": {
            "tags": []
          },
          "execution_count": 24
        }
      ]
    },
    {
      "cell_type": "markdown",
      "metadata": {
        "id": "1c3RLStf7G2I"
      },
      "source": [
        "## Cadenas de texto (Strings)"
      ]
    },
    {
      "cell_type": "markdown",
      "metadata": {
        "id": "Jm6hZhgz7KhI"
      },
      "source": [
        "Las cadenas se utilizan para almacenar texto. Pueden delimitarse usando comillas simples o dobles"
      ]
    },
    {
      "cell_type": "code",
      "metadata": {
        "id": "cCma6Oj_7T8n"
      },
      "source": [
        "string1 = \"some text\"\n",
        "string2 = 'some other text'"
      ],
      "execution_count": null,
      "outputs": []
    },
    {
      "cell_type": "markdown",
      "metadata": {
        "id": "Irr4xuWu7Znu"
      },
      "source": [
        "Las cadenas se comportan de manera similar a las listas. Por lo tanto, podemos acceder a elementos individuales exactamente de la misma manera"
      ]
    },
    {
      "cell_type": "code",
      "metadata": {
        "id": "26_POhLO7iM3",
        "colab": {
          "base_uri": "https://localhost:8080/",
          "height": 35
        },
        "outputId": "fa06d3b9-c683-4b05-bedc-36bc43f57bd4"
      },
      "source": [
        "string1[3]"
      ],
      "execution_count": null,
      "outputs": [
        {
          "output_type": "execute_result",
          "data": {
            "application/vnd.google.colaboratory.intrinsic+json": {
              "type": "string"
            },
            "text/plain": [
              "'e'"
            ]
          },
          "metadata": {
            "tags": []
          },
          "execution_count": 49
        }
      ]
    },
    {
      "cell_type": "markdown",
      "metadata": {
        "id": "oA_UD0JV7oPw"
      },
      "source": [
        "y de manera similar para subconjuntos"
      ]
    },
    {
      "cell_type": "code",
      "metadata": {
        "id": "dcZFcLqQ7qCe",
        "colab": {
          "base_uri": "https://localhost:8080/",
          "height": 35
        },
        "outputId": "aba6c437-ade3-49da-9e6a-9383eab01fa9"
      },
      "source": [
        "string1[5:]"
      ],
      "execution_count": null,
      "outputs": [
        {
          "output_type": "execute_result",
          "data": {
            "application/vnd.google.colaboratory.intrinsic+json": {
              "type": "string"
            },
            "text/plain": [
              "'text'"
            ]
          },
          "metadata": {
            "tags": []
          },
          "execution_count": 53
        }
      ]
    },
    {
      "cell_type": "markdown",
      "metadata": {
        "id": "hOQ_CIiu76YG"
      },
      "source": [
        "La concatenación de cadenas se realiza utilizando el operador `+`"
      ]
    },
    {
      "cell_type": "code",
      "metadata": {
        "id": "mxqNMKCY79_W",
        "colab": {
          "base_uri": "https://localhost:8080/",
          "height": 35
        },
        "outputId": "e5695c9e-0703-49b3-9608-b57ca8375ba9"
      },
      "source": [
        "string1 + \" \" + string2"
      ],
      "execution_count": null,
      "outputs": [
        {
          "output_type": "execute_result",
          "data": {
            "application/vnd.google.colaboratory.intrinsic+json": {
              "type": "string"
            },
            "text/plain": [
              "'some text some other text'"
            ]
          },
          "metadata": {
            "tags": []
          },
          "execution_count": 55
        }
      ]
    },
    {
      "cell_type": "markdown",
      "metadata": {
        "id": "7Lox2GZCMdIB"
      },
      "source": [
        "## Condicionales"
      ]
    },
    {
      "cell_type": "markdown",
      "metadata": {
        "id": "-gXEAWFZfDTT"
      },
      "source": [
        "Como su nombre indica, los condicionales son una forma de ejecutar código dependiendo de si una condición es Verdadera o Falsa. Como en otros lenguajes, Python soporta `if` y `else` pero `else if` se contrae en `elif`, como demuestra el ejemplo a continuación."
      ]
    },
    {
      "cell_type": "code",
      "metadata": {
        "id": "xC_DMZjofoYZ",
        "colab": {
          "base_uri": "https://localhost:8080/",
          "height": 34
        },
        "outputId": "e86016aa-0ebd-4e0f-e559-326f4b2ce644"
      },
      "source": [
        "my_variable = 5\n",
        "if my_variable < 0:\n",
        "  print(\"negative\")\n",
        "elif my_variable == 0:\n",
        "  print(\"null\")\n",
        "else: # my_variable > 0\n",
        "  print(\"positive\")"
      ],
      "execution_count": null,
      "outputs": [
        {
          "output_type": "stream",
          "text": [
            "positive\n"
          ],
          "name": "stdout"
        }
      ]
    },
    {
      "cell_type": "markdown",
      "metadata": {
        "id": "Ag0SUokSf9jl"
      },
      "source": [
        "Aquí `<` y `>` son los operadores estrictos `menor que` y `mayor que`, mientras que `==` es el operador de igualdad (no debe confundirse con `=`, el operador de asignación de variables). Los operadores `<=` y `>=` pueden usarse para comparaciones de menor (resp. mayor) o igual."
      ]
    },
    {
      "cell_type": "markdown",
      "metadata": {
        "id": "qTkQ2F_jy8wz"
      },
      "source": [
        "Contrariamente a otros lenguajes, los bloques de código se delimitan utilizando sangría. Aquí, usamos sangría de 2 espacios, pero muchos programadores también usan sangría de 4 espacios. Cualquiera está bien siempre y cuando seas consistente en todo tu código."
      ]
    },
    {
      "cell_type": "markdown",
      "metadata": {
        "id": "clWaFCzBMfkv"
      },
      "source": [
        "## Bucles"
      ]
    },
    {
      "cell_type": "markdown",
      "metadata": {
        "id": "_A5doqhTivWe"
      },
      "source": [
        "Los bucles son una forma de ejecutar un bloque de código múltiples veces. Hay dos tipos principales de bucles: bucles while y bucles for."
      ]
    },
    {
      "cell_type": "markdown",
      "metadata": {
        "id": "YN8lwTxQkGEa"
      },
      "source": [
        "Bucle while"
      ]
    },
    {
      "cell_type": "code",
      "metadata": {
        "id": "7-QXGqgOjsr_",
        "colab": {
          "base_uri": "https://localhost:8080/",
          "height": 85
        },
        "outputId": "4a9bdffc-46ba-47ba-e60b-3ea01dcd2d65"
      },
      "source": [
        "i = 0\n",
        "while i < len(my_list):\n",
        "  print(my_list[i])\n",
        "  i += 1 # equivalente a i = i + 1"
      ],
      "execution_count": null,
      "outputs": [
        {
          "output_type": "stream",
          "text": [
            "1\n",
            "2\n",
            "3\n",
            "4\n"
          ],
          "name": "stdout"
        }
      ]
    },
    {
      "cell_type": "markdown",
      "metadata": {
        "id": "8mEI_ocfkSvZ"
      },
      "source": [
        "Bucle for"
      ]
    },
    {
      "cell_type": "code",
      "metadata": {
        "id": "2QObx5mckMcI",
        "colab": [
          {
            "base_uri": "https://localhost:8080/",
            "height": 85
          }
        ],
        "outputId": "32c31a79-ef89-4e80-9e76-47540f839cb6"
      },
      "source": [
        "for i in range(len(my_list)):\n",
        "  print(my_list[i])"
      ],
      "execution_count": null,
      "outputs": [
        {
          "output_type": "stream",
          "text": [
            "1\n",
            "2\n",
            "3\n",
            "4\n"
          ],
          "name": "stdout"
        }
      ]
    },
    {
      "cell_type": "markdown",
      "metadata": {
        "id": "XO6qqppikZvm"
      },
      "source": [
        "Si el objetivo es simplemente iterar sobre una lista, podemos hacerlo directamente de la siguiente manera"
      ]
    },
    {
      "cell_type": "code",
      "metadata": {
        "id": "PjFKzN6zkeJ7",
        "colab": {
          "base_uri": "https://localhost:8080/",
          "height": 85
        },
        "outputId": "41f3a553-b629-4e52-ad98-7bbe55e0cced"
      },
      "source": [
        "for element in my_list:\n",
        "  print(element)"
      ],
      "execution_count": null,
      "outputs": [
        {
          "output_type": "stream",
          "text": [
            "1\n",
            "2\n",
            "3\n",
            "4\n"
          ],
          "name": "stdout"
        }
      ]
    },
    {
      "cell_type": "markdown",
      "metadata": {
        "id": "Cck4zwYrex02"
      },
      "source": [
        "## Funciones"
      ]
    },
    {
      "cell_type": "markdown",
      "metadata": {
        "id": "n1PbIf_ohxFO"
      },
      "source": [
        "Para mejorar la legibilidad del código, es común separar el código en diferentes bloques, responsables de realizar acciones precisas: las funciones. Una función toma algunas entradas y las procesa para devolver algunas salidas."
      ]
    },
    {
      "cell_type": "code",
      "metadata": {
        "id": "cImA09gOhRmx",
        "colab": {
          "base_uri": "https://localhost:8080/",
          "height": 34
        },
        "outputId": "85834282-56d6-4c17-f188-433f46c50d21"
      },
      "source": [
        "def square(x):\n",
        "  return x ** 2\n",
        "\n",
        "def multiply(a, b):\n",
        "  return a * b\n",
        "\n",
        "# Las funciones pueden ser compuestas.\n",
        "square(multiply(3, 2))"
      ],
      "execution_count": null,
      "outputs": [
        {
          "output_type": "execute_result",
          "data": {
            "text/plain": [
              "36"
            ]
          },
          "metadata": {
            "tags": []
          },
          "execution_count": 17
        }
      ]
    },
    {
      "cell_type": "markdown",
      "metadata": {
        "id": "75-5SOk9iYSt"
      },
      "source": [
        "Para mejorar la legibilidad del código, a veces es útil nombrar explícitamente los argumentos"
      ]
    },
    {
      "cell_type": "code",
      "metadata": {
        "id": "wkIUuZHhidI0",
        "colab": {
          "base_uri": "https://localhost:8080/",
          "height": 34
        },
        "outputId": "acb68380-db78-491c-ce27-8a4664f78ce5"
      },
      "source": [
        "square(multiply(a=3, b=2))"
      ],
      "execution_count": null,
      "outputs": [
        {
          "output_type": "execute_result",
          "data": {
            "text/plain": [
              "36"
            ]
          },
          "metadata": {
            "tags": []
          },
          "execution_count": 18
        }
      ]
    },
    {
      "cell_type": "markdown",
      "metadata": {
        "id": "LkpwbQEVMys2"
      },
      "source": [
        "## Ejercicios"
      ]
    },
    {
      "cell_type": "markdown",
      "metadata": {
        "id": "ASpVhol9ZXI0"
      },
      "source": [
        "**Ejercicio 1.** Usando un condicional, escribe la función [relu](https://en.wikipedia.org/wiki/Rectifier_(neural_networks)) definida como sigue\n",
        "\n",
        "$\\text{relu}(x) = \\left\\{\n",
        "   \\begin{array}{rl}\n",
        "     x, & \\text{if }  x \\ge 0 \\\\\n",
        "     0, & \\text{otherwise }.\n",
        "   \\end{array}\\right.$"
      ]
    },
    {
      "cell_type": "code",
      "metadata": {
        "id": "jlgyu65SaUvr"
      },
      "source": [
        "def relu(x):\n",
        "  # Escribe tu función aquí\n",
        "  return\n",
        "\n",
        "relu(-3)"
      ],
      "execution_count": null,
      "outputs": []
    },
    {
      "cell_type": "markdown",
      "metadata": {
        "id": "Y3so0ceoakIw"
      },
      "source": [
        "**Ejercicio 2.** Usando un bucle for, escribe una función que calcule la [norma euclidiana](https://en.wikipedia.org/wiki/Norm_(mathematics)#Euclidean_norm) de un vector, representado como una lista."
      ]
    },
    {
      "cell_type": "code",
      "metadata": {
        "id": "-IH-BD41bI1u",
        "colab": {
          "base_uri": "https://localhost:8080/",
          "height": 34
        },
        "outputId": "f45bf668-d55b-494d-ecd7-2f421cbacf15"
      },
      "source": [
        "def euclidean_norm(vector):\n",
        "  # Escribe tu función aquí\n",
        "  return\n",
        "\n",
        "import numpy as np\n",
        "my_vector = [0.5, -1.2, 3.3, 4.5]\n",
        "# El resultado debería ser aproximadamente 5.729746940310715\n",
        "euclidean_norm(my_vector)"
      ],
      "execution_count": null,
      "outputs": [
        {
          "output_type": "execute_result",
          "data": {
            "text/plain": [
              "5.729746940310715"
            ]
          },
          "metadata": {
            "tags": []
          },
          "execution_count": 13
        }
      ]
    },
    {
      "cell_type": "markdown",
      "metadata": {
        "id": "SEXIh_e9cW3S"
      },
      "source": [
        "**Ejercicio 3.** Usando un bucle for y un condicional, escribe una función que devuelva el valor máximo en un vector."
      ]
    },
    {
      "cell_type": "code",
      "metadata": {
        "id": "zd9ntMq0cb2e"
      },
      "source": [
        "def vector_maximum(vector):\n",
        "  # Escribe tu función aquí\n",
        "  return"
      ],
      "execution_count": null,
      "outputs": []
    },
    {
      "cell_type": "markdown",
      "metadata": {
        "id": "qPAZA4OMc6sT"
      },
      "source": [
        "**Ejercicio adicional.** Si el tiempo lo permite, escribe una función que ordene una lista en orden ascendente (de menor a mayor) usando el algoritmo [bubble sort](https://en.wikipedia.org/wiki/Bubble_sort)."
      ]
    },
    {
      "cell_type": "code",
      "metadata": {
        "id": "sBokdJO4dGyf"
      },
      "source": [
        "def bubble_sort(my_list):\n",
        "  # Escribe tu función aquí\n",
        "  return\n",
        "\n",
        "my_list = [1, -3, 3, 2]\n",
        "# Debería devolver [-3, 1, 2, 3]\n",
        "bubble_sort(my_list)"
      ],
      "execution_count": null,
      "outputs": []
    },
    {
      "cell_type": "markdown",
      "metadata": {
        "id": "jDxjvtEEM1vg"
      },
      "source": [
        "## Para ir más allá"
      ]
    },
    {
      "cell_type": "markdown",
      "metadata": {
        "id": "wRkmvzf-PdEp"
      },
      "source": [
        "Claramente, es imposible cubrir todas las características del lenguaje en esta breve introducción. Para ir más allá, recomendamos los siguientes recursos:"
      ]
    },
    {
      "cell_type": "markdown",
      "metadata": {
        "id": "n8nbPoWclRlH"
      },
      "source": [
        "* Lista de [tutoriales](https://wiki.python.org/moin/BeginnersGuide/Programmers) de Python\n",
        "* Curso de cuatro [horas](https://www.youtube.com/watch?v=rfscVS0vtbw) en Youtube"
      ]
    },
    {
      "cell_type": "markdown",
      "metadata": {
        "id": "6X4WJo3iM6m9"
      },
      "source": [
        "# NumPy"
      ]
    },
    {
      "cell_type": "markdown",
      "metadata": {
        "id": "_H3bNbLloXCY"
      },
      "source": [
        "NumPy es una librería popular para almacenar arrays de números y realizar cálculos con ellos. Esto no solo permite escribir código a menudo más sucinto, sino que también hace que el código sea más rápido, ya que la mayoría de las rutinas de NumPy están implementadas en C por velocidad."
      ]
    },
    {
      "cell_type": "markdown",
      "metadata": {
        "id": "M7tI3XLhqwSX"
      },
      "source": [
        "Para usar NumPy en tu programa, necesitas importarlo de la siguiente manera"
      ]
    },
    {
      "cell_type": "code",
      "metadata": {
        "id": "phSPPyfyq2gX"
      },
      "source": [
        "import numpy as np"
      ],
      "execution_count": null,
      "outputs": []
    },
    {
      "cell_type": "markdown",
      "metadata": {
        "id": "9secCfFLNHEE"
      },
      "source": [
        "## Creación de arrays"
      ]
    },
    {
      "cell_type": "markdown",
      "metadata": {
        "id": "LSS2wEnkq97n"
      },
      "source": [
        "Los arrays de NumPy pueden crearse a partir de listas de Python"
      ]
    },
    {
      "cell_type": "code",
      "metadata": {
        "id": "Hfeg286yrLvJ",
        "colab": {
          "base_uri": "https://localhost:8080/",
          "height": 34
        },
        "outputId": "f498bafc-0373-4258-f479-e27716b193c1"
      },
      "source": [
        "my_array = np.array([1, 2, 3])\n",
        "my_array"
      ],
      "execution_count": null,
      "outputs": [
        {
          "output_type": "execute_result",
          "data": {
            "text/plain": [
              "array([1, 2, 3])"
            ]
          },
          "metadata": {
            "tags": []
          },
          "execution_count": 27
        }
      ]
    },
    {
      "cell_type": "markdown",
      "metadata": {
        "id": "Sy2EvrxFriAG"
      },
      "source": [
        "NumPy soporta arrays de dimensión arbitraria. Por ejemplo, podemos crear arrays bidimensionales (por ejemplo, para almacenar una matriz) de la siguiente manera"
      ]
    },
    {
      "cell_type": "code",
      "metadata": {
        "id": "wM-GYVMsrzNs",
        "colab": {
          "base_uri": "https://localhost:8080/",
          "height": 51
        },
        "outputId": "3d524d20-cf2c-4d3c-ba08-4552be3a46d8"
      },
      "source": [
        "my_2d_array = np.array([[1, 2, 3], [4, 5, 6]])\n",
        "my_2d_array"
      ],
      "execution_count": null,
      "outputs": [
        {
          "output_type": "execute_result",
          "data": {
            "text/plain": [
              "array([[1, 2, 3],\n",
              "       [4, 5, 6]])"
            ]
          },
          "metadata": {
            "tags": []
          },
          "execution_count": 28
        }
      ]
    },
    {
      "cell_type": "markdown",
      "metadata": {
        "id": "-kZMzYsAsVAc"
      },
      "source": [
        "Podemos acceder a elementos individuales de un array 2d usando dos índices"
      ]
    },
    {
      "cell_type": "code",
      "metadata": {
        "id": "4q8X86BbscPd",
        "colab": {
          "base_uri": "https://localhost:8080/",
          "height": 34
        },
        "outputId": "3cefe32a-690a-4744-fad9-9c3edd763cd6"
      },
      "source": [
        "my_2d_array[1, 2]"
      ],
      "execution_count": null,
      "outputs": [
        {
          "output_type": "execute_result",
          "data": {
            "text/plain": [
              "6"
            ]
          },
          "metadata": {
            "tags": []
          },
          "execution_count": 30
        }
      ]
    },
    {
      "cell_type": "markdown",
      "metadata": {
        "id": "OfVIKyxkTh0p"
      },
      "source": [
        "También podemos acceder a filas"
      ]
    },
    {
      "cell_type": "code",
      "metadata": {
        "id": "CrKnDAtyTlYe",
        "colab": {
          "base_uri": "https://localhost:8080/",
          "height": 34
        },
        "outputId": "14060c28-8ee7-48f5-f0ca-bdcff12cc421"
      },
      "source": [
        "my_2d_array[1]"
      ],
      "execution_count": null,
      "outputs": [
        {
          "output_type": "execute_result",
          "data": {
            "text/plain": [
              "array([4, 5, 6])"
            ]
          },
          "metadata": {
            "tags": []
          },
          "execution_count": 66
        }
      ]
    },
    {
      "cell_type": "markdown",
      "metadata": {
        "id": "hskLBCp9ToCG"
      },
      "source": [
        "y columnas"
      ]
    },
    {
      "cell_type": "code",
      "metadata": {
        "id": "MOOFsLHhTozX",
        "colab": {
          "base_uri": "https://localhost:8080/",
          "height": 34
        },
        "outputId": "8802a59a-0812-40a4-f930-ab2a3302bf46"
      },
      "source": [
        "my_2d_array[:, 2]"
      ],
      "execution_count": null,
      "outputs": [
        {
          "output_type": "execute_result",
          "data": {
            "text/plain": [
              "array([3, 6])"
            ]
          },
          "metadata": {
            "tags": []
          },
          "execution_count": 67
        }
      ]
    },
    {
      "cell_type": "markdown",
      "metadata": {
        "id": "keWK_5PHr9Q2"
      },
      "source": [
        "Los arrays tienen un atributo `shape`"
      ]
    },
    {
      "cell_type": "code",
      "metadata": {
        "id": "5QIo7l1Yr8m7",
        "colab": {
          "base_uri": "https://localhost:8080/",
          "height": 51
        },
        "outputId": "357d4218-541d-4c7f-8bcf-b3f4523b1fa3"
      },
      "source": [
        "print(my_array.shape)\n",
        "print(my_2d_array.shape)"
      ],
      "execution_count": null,
      "outputs": [
        {
          "output_type": "stream",
          "text": [
            "(3,)\n",
            "(2, 3)\n"
          ],
          "name": "stdout"
        }
      ]
    },
    {
      "cell_type": "markdown",
      "metadata": {
        "id": "LmX0EDWVsoDY"
      },
      "source": [
        "Contrariamente a las listas de Python, los arrays de NumPy deben tener un tipo y todos los elementos del array deben tener el mismo tipo."
      ]
    },
    {
      "cell_type": "code",
      "metadata": {
        "id": "FZjOowkls57o",
        "colab": {
          "base_uri": "https://localhost:8080/",
          "height": 34
        },
        "outputId": "abb3edab-a903-40c8-f88a-1125fc6d4dbf"
      },
      "source": [
        "my_array.dtype"
      ],
      "execution_count": null,
      "outputs": [
        {
          "output_type": "execute_result",
          "data": {
            "text/plain": [
              "dtype('int64')"
            ]
          },
          "metadata": [
            {
              "tags": []
            }
          ],
          "execution_count": 31
        }
      ]
    },
    {
      "cell_type": "markdown",
      "metadata": {
        "id": "i5AvLdf7tGnZ"
      },
      "source": [
        "Los tipos principales son `int32` (enteros de 32 bits), `int64` (enteros de 64 bits), `float32` (valores reales de 32 bits) y `float64` (valores reales de 64 bits)."
      ]
    },
    {
      "cell_type": "markdown",
      "metadata": {
        "id": "w8ym2qZCt9Nm"
      },
      "source": [
        "El `dtype` puede especificarse al crear el array"
      ]
    },
    {
      "cell_type": "code",
      "metadata": {
        "id": "gXpM_FqruCVv",
        "colab": {
          "base_uri": "https://localhost:8080/",
          "height": 34
        },
        "outputId": "20d8b981-56ed-4458-d9d8-2f9fb5fb2b58"
      },
      "source": [
        "my_array = np.array([1, 2, 3], dtype=np.float64)\n",
        "my_array.dtype"
      ],
      "execution_count": null,
      "outputs": [
        {
          "output_type": "execute_result",
          "data": {
            "text/plain": [
              "dtype('float64')"
            ]
          },
          "metadata": {
            "tags": []
          },
          "execution_count": 32
        }
      ]
    },
    {
      "cell_type": "markdown",
      "metadata": {
        "id": "WueaRIONuTdS"
      },
      "source": [
        "Podemos crear arrays de todos ceros usando"
      ]
    },
    {
      "cell_type": "code",
      "metadata": {
        "id": "jbD8N1UauK8r",
        "colab": {
          "base_uri": "https://localhost:8080/",
          "height": 51
        },
        "outputId": "4a352f81-f0e8-4bc1-a651-760436c7d213"
      },
      "source": [
        "zero_array = np.zeros((2, 3))\n",
        "zero_array"
      ],
      "execution_count": null,
      "outputs": [
        {
          "output_type": "execute_result",
          "data": {
            "text/plain": [
              "array([[0., 0., 0.],\n",
              "       [0., 0., 0.]])"
            ]
          },
          "metadata": {
            "tags": []
          },
          "execution_count": 33
        }
      ]
    },
    {
      "cell_type": "markdown",
      "metadata": {
        "id": "vn5go6qoudo4"
      },
      "source": [
        "y de manera similar para todos unos usando `ones` en lugar de `zeros`."
      ]
    },
    {
      "cell_type": "markdown",
      "metadata": {
        "id": "1kCRlhLJuvZ6"
      },
      "source": [
        "Podemos crear un rango de valores usando"
      ]
    },
    {
      "cell_type": "code",
      "metadata": {
        "id": "EcQXDeEmuxpO",
        "colab": {
          "base_uri": "https://localhost:8080/",
          "height": 34
        },
        "outputId": "5a6fac79-26e3-4012-d5f4-82844372dc58"
      },
      "source": [
        "np.arange(5)"
      ],
      "execution_count": null,
      "outputs": [
        {
          "output_type": "execute_result",
          "data": {
            "text/plain": [
              "array([0, 1, 2, 3, 4])"
            ]
          },
          "metadata": {
            "tags": []
          },
          "execution_count": 34
        }
      ]
    },
    {
      "cell_type": "markdown",
      "metadata": {
        "id": "ZvJECk6Iu3uF"
      },
      "source": [
        "o especificando el punto de partida"
      ]
    },
    {
      "cell_type": "code",
      "metadata": {
        "id": "Pk3UzL3du_f8",
        "colab": {
          "base_uri": "https://localhost:8080/",
          "height": 34
        },
        "outputId": "1fd3f3fa-63ba-4a26-9274-011574bebbd2"
      },
      "source": [
        "np.arange(3, 5)"
      ],
      "execution_count": null,
      "outputs": [
        {
          "output_type": "execute_result",
          "data": {
            "text/plain": [
              "array([3, 4])"
            ]
          },
          "metadata": {
            "tags": []
          },
          "execution_count": 35
        }
      ]
    },
    {
      "cell_type": "markdown",
      "metadata": {
        "id": "f1JtqFSivJKG"
      },
      "source": [
        "Otra rutina útil es `linspace` para crear valores espaciados linealmente en un intervalo. Por ejemplo, para crear 10 valores en `[0, 1]`, podemos usar"
      ]
    },
    {
      "cell_type": "code",
      "metadata": {
        "id": "udHHjGAHvOQM",
        "colab": {
          "base_uri": "https://localhost:8080/",
          "height": 51
        },
        "outputId": "473cec27-ac56-4dc9-984a-c1e340255a51"
      },
      "source": [
        "np.linspace(0, 1, 10)"
      ],
      "execution_count": null,
      "outputs": [
        {
          "output_type": "execute_result",
          "data": {
            "text/plain": [
              "array([0.        , 0.11111111, 0.22222222, 0.33333333, 0.44444444,\n",
              "       0.55555556, 0.66666667, 0.77777778, 0.88888889, 1.        ])"
            ]
          },
          "metadata": {
            "tags": []
          },
          "execution_count": 36
        }
      ]
    },
    {
      "cell_type": "markdown",
      "metadata": {
        "id": "WbcxAKobvgUT"
      },
      "source": [
        "Otra operación importante es `reshape`, para cambiar la forma de un array"
      ]
    },
    {
      "cell_type": "code",
      "metadata": {
        "id": "4FPzTuDlvlLO",
        "colab": {
          "base_uri": "https://localhost:8080/",
          "height": 68
        },
        "outputId": "338648ec-11e3-436f-d0e4-6745f9cb30d3"
      },
      "source": [
        "my_array = np.array([1, 2, 3, 4, 5, 6])\n",
        "my_array.reshape(3, 2)"
      ],
      "execution_count": null,
      "outputs": [
        {
          "output_type": "execute_result",
          "data": {
            "text/plain": [
              "array([[1, 2],\n",
              "       [3, 4],\n",
              "       [5, 6]])"
            ]
          },
          "metadata": {
            "tags": []
          },
          "execution_count": 37
        }
      ]
    },
    {
      "cell_type": "markdown",
      "metadata": {
        "id": "G-QR80_g3N9Y"
      },
      "source": [
        "Juega con estas operaciones y asegúrate de entenderlas bien."
      ]
    },
    {
      "cell_type": "markdown",
      "metadata": {
        "id": "f9B0iCBlmfeY"
      },
      "source": [
        "## Operaciones básicas"
      ]
    },
    {
      "cell_type": "markdown",
      "metadata": {
        "id": "elQGgkqDxKLV"
      },
      "source": [
        "En NumPy, expresamos cálculos directamente sobre arrays. Esto hace que el código sea mucho más sucinto."
      ]
    },
    {
      "cell_type": "markdown",
      "metadata": {
        "id": "hkCU1T8ixghX"
      },
      "source": [
        "Las operaciones aritméticas pueden realizarse directamente sobre arrays. Por ejemplo, suponiendo que dos arrays tienen una forma compatible, podemos sumarlos de la siguiente manera"
      ]
    },
    {
      "cell_type": "code",
      "metadata": {
        "id": "4AoiRq42x5mI",
        "colab": {
          "base_uri": "https://localhost:8080/",
          "height": 34
        },
        "outputId": "d9706493-95f8-43d5-af90-21a53c13cac5"
      },
      "source": [
        "array_a = np.array([1, 2, 3])\n",
        "array_b = np.array([4, 5, 6])\n",
        "array_a + array_b"
      ],
      "execution_count": null,
      "outputs": [
        {
          "output_type": "execute_result",
          "data": {
            "text/plain": [
              "array([5, 7, 9])"
            ]
          },
          "metadata": {
            "tags": []
          },
          "execution_count": 38
        }
      ]
    },
    {
      "cell_type": "markdown",
      "metadata": {
        "id": "SyPqME2EyD4x"
      },
      "source": [
        "Compara esto con el cálculo equivalente usando un bucle for"
      ]
    },
    {
      "cell_type": "code",
      "metadata": {
        "id": "HxRFA_U2yfI-",
        "colab": {
          "base_uri": "https://localhost:8080/",
          "height": 34
        },
        "outputId": "cbd77fed-8b67-4119-aeea-7a71d92b63b6"
      },
      "source": [
        "array_out = np.zeros_like(array_a)\n",
        "for i in range(len(array_a)):\n",
        "  array_out[i] = array_a[i] + array_b[i]\n",
        "array_out"
      ],
      "execution_count": null,
      "outputs": [
        {
          "output_type": "execute_result",
          "data": {
            "text/plain": [
              "array([5, 7, 9])"
            ]
          },
          "metadata": {
            "tags": []
          },
          "execution_count": 65
        }
      ]
    },
    {
      "cell_type": "markdown",
      "metadata": {
        "id": "i2a-apX-zlPN"
      },
      "source": [
        "No solo este código es más verboso, sino que también se ejecutará mucho más lentamente."
      ]
    },
    {
      "cell_type": "markdown",
      "metadata": {
        "id": "Qdn8MwpR0wX_"
      },
      "source": [
        "En NumPy, las funciones que operan sobre arrays de manera elemento a elemento se llaman [funciones universales](https://numpy.org/doc/stable/reference/ufuncs.html). Por ejemplo, este es el caso de `np.sin`"
      ]
    },
    {
      "cell_type": "code",
      "metadata": {
        "id": "JoanjiMu1BH5",
        "colab": {
          "base_uri": "https://localhost:8080/",
          "height": 34
        },
        "outputId": "e6b8be44-7e66-4a3f-eb57-c767c7f8b2f3"
      },
      "source": [
        "np.sin(array_a)"
      ],
      "execution_count": null,
      "outputs": [
        {
          "output_type": "execute_result",
          "data": {
            "text/plain": [
              "array([0.84147098, 0.90929743, 0.14112001])"
            ]
          },
          "metadata": {
            "tags": []
          },
          "execution_count": 41
        }
      ]
    },
    {
      "cell_type": "markdown",
      "metadata": {
        "id": "jHljrPXg5h8W"
      },
      "source": [
        "El producto interno vectorial puede realizarse usando `np.dot`"
      ]
    },
    {
      "cell_type": "code",
      "metadata": {
        "id": "TphR8oIx5ob9",
        "colab": {
          "base_uri": "https://localhost:8080/",
          "height": 34
        },
        "outputId": "a84a8966-6b99-4a48-b422-caea4dd0ffc6"
      },
      "source": [
        "np.dot(array_a, array_b)"
      ],
      "execution_count": null,
      "outputs": [
        {
          "output_type": "execute_result",
          "data": {
            "text/plain": [
              "32"
            ]
          },
          "metadata": {
            "tags": []
          },
          "execution_count": 44
        }
      ]
    },
    {
      "cell_type": "markdown",
      "metadata": {
        "id": "lHInOiSW50OR"
      },
      "source": [
        "Cuando los dos argumentos de `np.dot` son ambos arrays 2d, `np.dot` se convierte en multiplicación de matrices"
      ]
    },
    {
      "cell_type": "code",
      "metadata": {
        "id": "QRbpbhPP6Up0",
        "colab": {
          "base_uri": "https://localhost:8080/",
          "height": 102
        },
        "outputId": "d020a4d4-2532-495f-fd28-766fc92b3318"
      },
      "source": [
        "array_A = np.random.rand(5, 3)\n",
        "array_B = np.random.randn(3, 4)\n",
        "np.dot(array_A, array_B)"
      ],
      "execution_count": null,
      "outputs": [
        {
          "output_type": "execute_result",
          "data": {
            "text/plain": [
              "array([[-0.36045702, -0.81071381, -0.19270751,  1.68942764],\n",
              "       [-1.37444349, -3.05245084, -0.52466652, -0.02343348],\n",
              "       [-1.43277431, -2.95828896, -0.4035378 , -0.50852563],\n",
              "       [-0.8569399 , -0.99003545,  0.17051909,  1.02933425],\n",
              "       [-0.47198448, -1.52564526, -0.41890404, -1.29330023]])"
            ]
          },
          "metadata": {
            "tags": []
          },
          "execution_count": 45
        }
      ]
    },
    {
      "cell_type": "markdown",
      "metadata": {
        "id": "odVawD9m6gwv"
      },
      "source": [
        "La transpuesta de una matriz puede hacerse usando `.transpose()` o `.T` para abreviar"
      ]
    },
    {
      "cell_type": "code",
      "metadata": {
        "id": "gvPe_JAO6mvF",
        "colab": {
          "base_uri": "https://localhost:8080/",
          "height": 68
        },
        "outputId": "4952000d-c255-4cd0-8b12-51bcb59ba53b"
      },
      "source": [
        "array_A.T"
      ],
      "execution_count": null,
      "outputs": [
        {
          "output_type": "execute_result",
          "data": {
            "text/plain": [
              "array([[0.83246658, 0.86545167, 0.62386601, 0.473339  , 0.06991272],\n",
              "       [0.02185012, 0.93435538, 0.93170156, 0.0036374 , 0.7230155 ],\n",
              "       [0.08128956, 0.83778882, 0.96709345, 0.66291745, 0.2734715 ]])"
            ]
          },
          "metadata": {
            "tags": []
          },
          "execution_count": 46
        }
      ]
    },
    {
      "cell_type": "markdown",
      "metadata": {
        "id": "JlWt3oFnE_E-"
      },
      "source": [
        "## Segmentación (Slicing) y enmascaramiento (Masking)"
      ]
    },
    {
      "cell_type": "markdown",
      "metadata": {
        "id": "e4aKKe7bFA65"
      },
      "source": [
        "Al igual que las listas de Python, los arrays de NumPy soportan segmentación"
      ]
    },
    {
      "cell_type": "code",
      "metadata": {
        "id": "0kPhv2xcF1TP",
        "colab": {
          "base_uri": "https://localhost:8080/",
          "height": 34
        },
        "outputId": "a7315cac-0495-44da-e497-63aa677b8d47"
      },
      "source": [
        "np.arange(10)[5:]"
      ],
      "execution_count": null,
      "outputs": [
        {
          "output_type": "execute_result",
          "data": {
            "text/plain": [
              "array([5, 6, 7, 8, 9])"
            ]
          },
          "metadata": {
            "tags": []
          },
          "execution_count": 61
        }
      ]
    },
    {
      "cell_type": "markdown",
      "metadata": {
        "id": "ITu2Wy4-GB2G"
      },
      "source": [
        "También podemos seleccionar solo ciertos elementos del array"
      ]
    },
    {
      "cell_type": "code",
      "metadata": {
        "id": "8tlZzTB6GEyw",
        "colab": {
          "base_uri": "https://localhost:8080/",
          "height": 34
        },
        "outputId": "a2918cd3-f33b-48de-cd18-a3a8b1fb2fab"
      },
      "source": [
        "x = np.arange(10)\n",
        "mask = x >= 5\n",
        "x[mask]"
      ],
      "execution_count": null,
      "outputs": [
        {
          "output_type": "execute_result",
          "data": {
            "text/plain": [
              "array([5, 6, 7, 8, 9])"
            ]
          },
          "metadata": {
            "tags": []
          },
          "execution_count": 62
        }
      ]
    },
    {
      "cell_type": "markdown",
      "metadata": {
        "id": "NlGForCimjBL"
      },
      "source": [
        "## Ejercicios"
      ]
    },
    {
      "cell_type": "markdown",
      "metadata": {
        "id": "Ur1UlSFPTu6O"
      },
      "source": [
        "**Ejercicio 1.** Crea un array 3d de forma (2, 2, 2), que contenga 8 valores. Accede a elementos individuales y a segmentos."
      ]
    },
    {
      "cell_type": "code",
      "metadata": {
        "id": "v1ed4-vLUWXQ"
      },
      "source": [],
      "execution_count": null,
      "outputs": []
    },
    {
      "cell_type": "markdown",
      "metadata": {
        "id": "s_ksfCDJzyxI"
      },
      "source": [
        "**Ejercicio 2.** Reescribe la función relu (ver sección de Python) usando [np.maximum](https://numpy.org/doc/stable/reference/generated/numpy.maximum.html). Comprueba que funciona tanto en un valor único como en un array de valores."
      ]
    },
    {
      "cell_type": "code",
      "metadata": {
        "id": "QtSTxH5Dz6f8"
      },
      "source": [
        "def relu_numpy(x):\n",
        "  return\n",
        "\n",
        "relu_numpy(np.array([1, -3, 2.5]))"
      ],
      "execution_count": null,
      "outputs": []
    },
    {
      "cell_type": "markdown",
      "metadata": {
        "id": "wggUjpyRz7fb"
      },
      "source": [
        "**Ejercicio 3.** Reescribe la norma euclidiana de un vector (array 1d) usando NumPy (sin bucle for)"
      ]
    },
    {
      "cell_type": "code",
      "metadata": {
        "id": "p5BLcHOD0Bhy"
      },
      "source": [
        "def euclidean_norm_numpy(x):\n",
        "  return\n",
        "\n",
        "my_vector = np.array([0.5, -1.2, 3.3, 4.5])\n",
        "euclidean_norm_numpy(my_vector)"
      ],
      "execution_count": null,
      "outputs": []
    },
    {
      "cell_type": "markdown",
      "metadata": {
        "id": "01IteVJ60Il2"
      },
      "source": [
        "**Ejercicio 4.** Escribe una función que calcule las normas euclidianas de una matriz (array 2d) de manera fila por fila. Pista: usa el argumento `axis` de [np.sum](https://numpy.org/doc/stable/reference/generated/numpy.sum.html)."
      ]
    },
    {
      "cell_type": "code",
      "metadata": {
        "id": "at5lWRNM0SVG"
      },
      "source": [
        "def euclidean_norm_2d(X):\n",
        "  return\n",
        "\n",
        "my_matrix = np.array([[0.5, -1.2, 4.5],\n",
        "                      [-3.2, 1.9, 2.7]])\n",
        "# Debería devolver un array de tamaño 2.\n",
        "euclidean_norm_2d(my_matrix)"
      ],
      "execution_count": null,
      "outputs": []
    },
    {
      "cell_type": "markdown",
      "metadata": {
        "id": "yd1ZoByo436x"
      },
      "source": [
        "**Ejercicio 5.** Calcula el valor medio de las características en el [conjunto de datos iris](https://scikit-learn.org/stable/modules/generated/sklearn.datasets.load_iris.html). Pista: usa el argumento `axis` en [np.mean](https://numpy.org/doc/stable/reference/generated/numpy.mean.html)."
      ]
    },
    {
      "cell_type": "code",
      "metadata": {
        "id": "fYFVobkP5JK6",
        "colab": {
          "base_uri": "https://localhost:8080/",
          "height": 34
        },
        "outputId": "91504ff7-ad59-4eb7-f940-cb2e068e1b6f"
      },
      "source": [
        "from sklearn.datasets import load_iris\n",
        "X, y = load_iris(return_X_y=True)\n",
        "\n",
        "# El resultado debería ser un array de tamaño 4.\n",
        "# Escribe tu código aquí"
      ],
      "execution_count": null,
      "outputs": [
        {
          "output_type": "execute_result",
          "data": {
            "text/plain": [
              "(150, 4)"
            ]
          },
          "metadata": {
            "tags": []
          },
          "execution_count": 43
        }
      ]
    },
    {
      "cell_type": "markdown",
      "metadata": {
        "id": "1FDs9zX6mpoX"
      },
      "source": [
        "## Para ir más allá"
      ]
    },
    {
      "cell_type": "markdown",
      "metadata": {
        "id": "hFP61Iztmr9Q"
      },
      "source": [
        "* Referencia de NumPy [reference](https://numpy.org/doc/stable/reference/)\n",
        "* SciPy [lecturas](https://scipy-lectures.org/)\n",
        "* Tutorial de una [hora](https://www.youtube.com/watch?v=QUT1VHiLmmI) en Youtube"
      ]
    },
    {
      "cell_type": "markdown",
      "metadata": {
        "id": "7Jt6T3kJ8I2T"
      },
      "source": [
        "# Matplotlib"
      ]
    },
    {
      "cell_type": "markdown",
      "metadata": {
        "id": "kQX8TiEOALkQ"
      },
      "source": [
        "## Gráficos básicos"
      ]
    },
    {
      "cell_type": "markdown",
      "metadata": {
        "id": "REYwc9Va8UTg"
      },
      "source": [
        "Matplotlib es una librería de gráficos para Python."
      ]
    },
    {
      "cell_type": "markdown",
      "metadata": {
        "id": "Eom7t-m6-Uzb"
      },
      "source": [
        "Empezamos con un ejemplo rudimentario de trazado."
      ]
    },
    {
      "cell_type": "code",
      "metadata": {
        "id": "g21e5Ncm927z",
        "colab": {
          "base_uri": "https://localhost:8080/",
          "height": 295
        },
        "outputId": "0bffba14-376e-4274-a33a-04cc8ce6cd64"
      },
      "source": [
        "from matplotlib import pyplot as plt\n",
        "\n",
        "x_values = np.linspace(-3, 3, 100)\n",
        "\n",
        "plt.figure()\n",
        "plt.plot(x_values, np.sin(x_values), label=\"Sinusoide\")\n",
        "plt.xlabel(\"x\")\n",
        "plt.ylabel(\"sin(x)\")\n",
        "plt.title(\"Ejemplo de Matplotlib\")\n",
        "plt.legend(loc=\"upper left\")\n",
        "plt.show()"
      ],
      "execution_count": null,
    },
    {
      "cell_type": "markdown",
      "metadata": {
        "id": "ltvlLwXF-eAH"
      },
      "source": [
        "We continue with a rudimentary scatter plot example. This example displays samples from the [iris dataset](https://scikit-learn.org/stable/modules/generated/sklearn.datasets.load_iris.html) using the first two features. Colors indicate class membership (there are 3 classes)."
      ]
    },
    {
      "cell_type": "code",
      "metadata": {
        "id": "sEzcJAmy-hbK",
        "colab": {
          "base_uri": "https://localhost:8080/",
          "height": 268
        },
        "outputId": "7d965d22-d0b6-41d5-9f80-f5d6a7d7f93f"
      },
      "source": [
        "from sklearn.datasets import load_iris\n",
        "X, y = load_iris(return_X_y=True)\n",
        "\n",
        "X_class0 = X[y == 0]\n",
        "X_class1 = X[y == 1]\n",
        "X_class2 = X[y == 2]\n",
        "\n",
        "plt.figure()\n",
        "plt.scatter(X_class0[:, 0], X_class0[:, 1], label=\"Class 0\", color=\"C0\")\n",
        "plt.scatter(X_class1[:, 0], X_class1[:, 1], label=\"Class 1\", color=\"C1\")\n",
        "plt.scatter(X_class2[:, 0], X_class2[:, 1], label=\"Class 2\", color=\"C2\")\n",
        "plt.show()"
      ],
      "execution_count": null,
      "outputs": [
        {
          "output_type": "display_data",
          "data": {
            "image/png": "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\n",
            "text/plain": [
              "<Figure size 432x288 with 1 Axes>"
            ]
          },
          "metadata": {
            "tags": [],
            "needs_background": "light"
          }
        }
      ]
    },
    {
      "cell_type": "markdown",
      "metadata": {
        "id": "5vjln9qwAc3M"
      },
      "source": [
        "We see that samples belonging to class 0 can be linearly separated from the rest using only the first two features."
      ]
    },
    {
      "cell_type": "markdown",
      "metadata": {
        "id": "uVWuIUs2AQ5a"
      },
      "source": [
        "## Exercises\n",
        "\n"
      ]
    },
    {
      "cell_type": "markdown",
      "metadata": {
        "id": "1X6-g6zgCwJd"
      },
      "source": [
        "**Exercise 1.** Plot the relu and the [softplus](https://en.wikipedia.org/wiki/Rectifier_(neural_networks)#Softplus) functions on the same graph."
      ]
    },
    {
      "cell_type": "code",
      "metadata": {
        "id": "Ob6HZUX0DJ8y"
      },
      "source": [],
      "execution_count": null,
      "outputs": []
    },
    {
      "cell_type": "markdown",
      "metadata": {
        "id": "vpRGfz0aDW3l"
      },
      "source": [
        "What is the main difference between the two functions?"
      ]
    },
    {
      "cell_type": "markdown",
      "metadata": {
        "id": "JjDeIufRAYVL"
      },
      "source": [
        "**Exercise 2.** Repeat the same scatter plot but using the [digits dataset](https://scikit-learn.org/stable/modules/generated/sklearn.datasets.load_digits.html) instead."
      ]
    },
    {
      "cell_type": "code",
      "metadata": {
        "id": "-JU3TXCBBB0c"
      },
      "source": [
        "from sklearn.datasets import load_digits\n",
        "X, y = load_digits(return_X_y=True)"
      ],
      "execution_count": null,
      "outputs": []
    },
    {
      "cell_type": "markdown",
      "metadata": {
        "id": "w7wPWdmXBQA2"
      },
      "source": [
        "Are pixel values good features for classifying samples?"
      ]
    },
    {
      "cell_type": "markdown",
      "metadata": {
        "id": "dYM-oV1jD3RV"
      },
      "source": [
        "## Going further\n",
        "\n",
        "*  Official [tutorial](https://matplotlib.org/tutorials/introductory/pyplot.html)\n",
        "* [Tutorial](https://www.youtube.com/watch?v=qErBw-R2Ybk) on Youtube"
      ]
    }
  ]
}
