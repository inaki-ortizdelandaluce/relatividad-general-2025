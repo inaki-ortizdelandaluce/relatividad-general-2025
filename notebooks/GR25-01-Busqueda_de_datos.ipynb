{
 "cells": [
  {
   "cell_type": "markdown",
   "metadata": {
    "Collapsed": "false",
    "colab_type": "text",
    "editable": true,
    "id": "R_adEak0Q8NT",
    "slideshow": {
     "slide_type": ""
    },
    "tags": []
   },
   "source": [
    "<span style=\"float: left;padding: 1.3em\">![logo](https://raw.githubusercontent.com/inaki-ortizdelandaluce/relatividad-general-2025/main/notebooks/logo.png)</span>\n",
    "\n",
    "# Análisis de datos de Ondas Gravitacionales\n",
    "\n",
    "## Módulo 1: Acceso y búsqueda de datos de ondas gravitacionales\n",
    "\n",
    "Este notebook muestra cómo buscar datos científicos de diferentes observatorios terrestres de ondas gravitacionales disponibles públicamente desde el [Gravitational-Wave Open Science Center (GWOSC)](https://gwosc.org).\n"
   ]
  },
  {
   "cell_type": "markdown",
   "metadata": {
    "colab_type": "text",
    "id": "view-in-github"
   },
   "source": [
    "<a href=\"https://colab.research.google.com/github/inaki-ortizdelandaluce/relatividad-general-2025/blob/main/notebooks/GR25-01-Busqueda_de_datos.ipynb\" target=\"_parent\"><img src=\"https://colab.research.google.com/assets/colab-badge.svg\" alt=\"Open In Colab\"/></a>"
   ]
  },
  {
   "cell_type": "markdown",
   "metadata": {},
   "source": [
    "## Instalación"
   ]
  },
  {
   "cell_type": "markdown",
   "metadata": {},
   "source": [
    "> ⚠️ **Advertencia**: Reinicia el notebook una vez que ejecutes la siguiente celda.\n",
    ">\n",
    "> Para reiniciar el notebook en Google Colab, pulsa en la barra de herramientas el menú \"Runtime\" y selecciona \"Restart session and run all\"."
   ]
  },
  {
   "cell_type": "code",
   "execution_count": 1,
   "metadata": {},
   "outputs": [],
   "source": [
    "# -- Uncomment following line if running in Google Colab or first time local installation in Jupyter\n",
    "#! pip install -q 'gwosc==0.7.1'"
   ]
  },
  {
   "cell_type": "code",
   "execution_count": 4,
   "metadata": {},
   "outputs": [
    {
     "name": "stdout",
     "output_type": "stream",
     "text": [
      "0.7.1\n"
     ]
    }
   ],
   "source": [
    "import gwosc\n",
    "print(gwosc.__version__)"
   ]
  },
  {
   "cell_type": "markdown",
   "metadata": {},
   "source": [
    "## Introducción"
   ]
  },
  {
   "cell_type": "markdown",
   "metadata": {},
   "source": [
    "Los datos obtenidos en la colaboración LIGO-Virgo-KAGRA (LVK) se hacen públicos a través del portal [Gravitational-Wave Open Science Center (GWOSC)](https://gwosc.org), según está establecido por el [LIGO Data Management Plan](https://dcc.ligo.org/LIGO-M1000066/public)."
   ]
  },
  {
   "cell_type": "markdown",
   "metadata": {},
   "source": [
    "Para una descripción más detallada sobre los datos, puedes  consultar la publicación \"_Open Data from the Third Observing Run of LIGO, Virgo, KAGRA, and GEO_\" ([link](https://iopscience.iop.org/article/10.3847/1538-4365/acdc9f))."
   ]
  },
  {
   "cell_type": "markdown",
   "metadata": {
    "Collapsed": "false",
    "colab_type": "text",
    "id": "F3tmmQ-hQ8Nu"
   },
   "source": [
    "## Búsqueda de catálogos, eventos y _strain_\n",
    "\n",
    "El módulo de Python `gwosc.datasets` proporciona las herramientas para buscar datos, incluyendo catálogos, eventos, así como el contenido de los datos de deformación de los interferómetros en cada campaña de observacion, estos últimos conocidos en inglés como _full run strain data releases_. \n",
    "\n",
    "Por ejemplo, podemos buscar eventos dentro del catálogo [GWTC-1](https://gwosc.org/eventapi/html/GWTC-1-confident/), catálogo que incluye de todos los eventos detectados durante las campañas de observación O1 y 02. La lista de catálogos disponible se encuentra en el [Portal de Eventos](https://gwosc.org/eventapi)"
   ]
  },
  {
   "cell_type": "code",
   "execution_count": 5,
   "metadata": {},
   "outputs": [
    {
     "name": "stdout",
     "output_type": "stream",
     "text": [
      "List of available catalogs\n",
      "['GWTC', 'GWTC-1-confident', 'GWTC-1-marginal', 'GWTC-2', 'GWTC-2.1-auxiliary', 'GWTC-2.1-confident', 'GWTC-2.1-marginal', 'GWTC-3-confident', 'GWTC-3-marginal', 'GWTC-4.0', 'IAS-O3a', 'Initial_LIGO_Virgo', 'O1_O2-Preliminary', 'O3_Discovery_Papers', 'O3_IMBH_marginal', 'O4_Discovery_Papers']\n"
     ]
    }
   ],
   "source": [
    "from gwosc.datasets import find_datasets\n",
    "from gwosc import datasets\n",
    "\n",
    "#-- List all available catalogs\n",
    "print(\"List of available catalogs\")\n",
    "print(find_datasets(type=\"catalog\"))"
   ]
  },
  {
   "cell_type": "code",
   "execution_count": 8,
   "metadata": {},
   "outputs": [
    {
     "name": "stdout",
     "output_type": "stream",
     "text": [
      "GWTC-1 events: ['GW150914-v3', 'GW151012-v3', 'GW151226-v2', 'GW170104-v2', 'GW170608-v3', 'GW170729-v1', 'GW170809-v1', 'GW170814-v3', 'GW170817-v3', 'GW170818-v1', 'GW170823-v1']\n",
      "11 events found\n"
     ]
    }
   ],
   "source": [
    "#-- Print all the GW events from the GWTC-1 catalog\n",
    "gwtc1 = datasets.find_datasets(type='events', catalog='GWTC-1-confident')\n",
    "print('GWTC-1 events:', gwtc1)\n",
    "print(f\"{len(gwtc1)} events found\")"
   ]
  },
  {
   "cell_type": "markdown",
   "metadata": {},
   "source": [
    "La sintaxis para el nombre de de los eventos es _GWyymmdd-vx_ donde _x_ es la última versión disponible en el GWOSC."
   ]
  },
  {
   "cell_type": "code",
   "execution_count": 5,
   "metadata": {},
   "outputs": [
    {
     "name": "stdout",
     "output_type": "stream",
     "text": [
      "Large data sets: ['BKGW170608_16KHZ_R1', 'O1', 'O1_16KHZ', 'O2_16KHZ_R1', 'O2_4KHZ_R1', 'O3GK_16KHZ_R1', 'O3GK_4KHZ_R1', 'O3a_16KHZ_R1', 'O3a_4KHZ_R1', 'O3b_16KHZ_R1', 'O3b_4KHZ_R1', 'S5', 'S6']\n"
     ]
    }
   ],
   "source": [
    "#-- Print all the large strain data sets from LIGO/Virgo/KAGRA observing runs\n",
    "runs = find_datasets(type='run')\n",
    "print('Large data sets:', runs)"
   ]
  },
  {
   "cell_type": "markdown",
   "metadata": {},
   "source": [
    "_Nota: Las campañas de observación más recientes incluyen en su indentificador el nombre de la campaña, e.g. O2, la frecuencia de muestreo (4 o 16 kHz) y el nombre de la versión pública (e.g. R1). Así por ejemplo, para la campaña O2 hay dos identificadores 'O2_4KHZ_R1' y 'O2_16KHZ_R1', en función de la frecuencia de muestreo aplicable_"
   ]
  },
  {
   "cell_type": "markdown",
   "metadata": {
    "Collapsed": "false",
    "colab_type": "text",
    "id": "D9_tRXpMQ8N8"
   },
   "source": [
    "La función `datasets.find_datasets` también acepta un `segmento` y un `detector` para filtrar los resultados en base al tiempo GPS y el detector:"
   ]
  },
  {
   "cell_type": "code",
   "execution_count": 6,
   "metadata": {
    "Collapsed": "false",
    "colab": {
     "base_uri": "https://localhost:8080/",
     "height": 55
    },
    "colab_type": "code",
    "id": "XZTniqwHQ8N-",
    "outputId": "11adc70a-9cc0-4a38-b45e-45746571da00"
   },
   "outputs": [
    {
     "name": "stdout",
     "output_type": "stream",
     "text": [
      "['GW170104-v2', 'GW170608-v3', 'GW170729-v1', 'GW170809-v1', 'GW170814-v3', 'GW170817-v3', 'GW170818-v1', 'GW170823-v1']\n"
     ]
    }
   ],
   "source": [
    "#-- Detector and segments keywords limit search result\n",
    "print(datasets.find_datasets(type='events', catalog='GWTC-1-confident', detector=\"L1\", segment=(1164556817, 1187733618)))"
   ]
  },
  {
   "cell_type": "markdown",
   "metadata": {
    "Collapsed": "false",
    "colab_type": "text",
    "id": "7pnAItOJQ8OC"
   },
   "source": [
    "Usando la función `gwosc.datasets.event_gps`, podemos buscar el tiempo de GPS asociado a un evento concreto (no es necesario incluir la versión):"
   ]
  },
  {
   "cell_type": "code",
   "execution_count": 10,
   "metadata": {
    "Collapsed": "false",
    "colab": {
     "base_uri": "https://localhost:8080/",
     "height": 35
    },
    "colab_type": "code",
    "id": "tdr8c15_Q8OD",
    "outputId": "d0c58186-4197-459b-e67c-3dfc3db64bbd"
   },
   "outputs": [
    {
     "name": "stdout",
     "output_type": "stream",
     "text": [
      "1240215503.0\n"
     ]
    }
   ],
   "source": [
    "from gwosc.datasets import event_gps\n",
    "gps = event_gps('GW190425')\n",
    "print(gps)"
   ]
  },
  {
   "cell_type": "markdown",
   "metadata": {
    "Collapsed": "false",
    "colab_type": "text",
    "id": "hKvQhYAOQ8OG"
   },
   "source": [
    "<div class=\"alert alert-info\">El tiempo obtenido usando el paquete GWOSC corresponde al sistem de referencia GPS, que cuenta el número de segundos transcurridos desde la medianoche (00:00) del 6 de Enero de 1980. En la web de GWOSC hay disponible un conversor de tiempo (<a href=\"https://gwosc.org/gps/\">GPS time converter</a>) que puedes usar para traducir el tiempo a <i>datetime</i>, o bien puedes usar<a href=\"https://gwpy.github.io/docs/stable/time/\"><code>gwpy.time</code></a>.</div>"
   ]
  },
  {
   "cell_type": "code",
   "execution_count": 11,
   "metadata": {},
   "outputs": [
    {
     "name": "stdout",
     "output_type": "stream",
     "text": [
      "GW190425\n"
     ]
    }
   ],
   "source": [
    "# You can do also the vice-versa\n",
    "from gwosc.datasets import event_at_gps\n",
    "print(datasets.event_at_gps(1240215503))"
   ]
  },
  {
   "cell_type": "markdown",
   "metadata": {},
   "source": [
    "La función `event_at_gps` busca los eventos dentro de un intervalo de 1 segundo correspondientes al tiempo GPS indicado. Si no hay eventos, da un error."
   ]
  },
  {
   "cell_type": "markdown",
   "metadata": {
    "Collapsed": "false",
    "colab_type": "text",
    "id": "RXVyJsDDQ8OH"
   },
   "source": [
    "Podemos obtener el intervalo de tiempo GPS para una campaña de observación con la función `run_segment`:"
   ]
  },
  {
   "cell_type": "code",
   "execution_count": 12,
   "metadata": {
    "Collapsed": "false",
    "colab": {
     "base_uri": "https://localhost:8080/",
     "height": 35
    },
    "colab_type": "code",
    "id": "QYsQSPNJQ8OK",
    "outputId": "0415258a-cad5-4779-85d2-595ca9c20ce1"
   },
   "outputs": [
    {
     "name": "stdout",
     "output_type": "stream",
     "text": [
      "(1126051217, 1137254417)\n"
     ]
    }
   ],
   "source": [
    "from gwosc.datasets import run_segment\n",
    "print(run_segment('O1'))"
   ]
  },
  {
   "cell_type": "code",
   "execution_count": 13,
   "metadata": {},
   "outputs": [
    {
     "name": "stdout",
     "output_type": "stream",
     "text": [
      "O3a_4KHZ_R1\n"
     ]
    }
   ],
   "source": [
    "# and vice-versa also in this case\n",
    "from gwosc.datasets import run_at_gps\n",
    "print(run_at_gps(1240215503))"
   ]
  },
  {
   "cell_type": "markdown",
   "metadata": {},
   "source": [
    "Ahora podemos usar todo lo que hemos aprendido previamente con las funciones `run_segment` y `find_datasets` para buscar los eventos de confianza correspondientes a la campaña de observación 01:"
   ]
  },
  {
   "cell_type": "code",
   "execution_count": 11,
   "metadata": {},
   "outputs": [
    {
     "name": "stdout",
     "output_type": "stream",
     "text": [
      "['GW150914-v3', 'GW151012-v3', 'GW151226-v2']\n"
     ]
    }
   ],
   "source": [
    "O1_events = datasets.find_datasets(type='events', catalog='GWTC-1-confident', segment=run_segment('O1'))\n",
    "print(O1_events)"
   ]
  },
  {
   "cell_type": "markdown",
   "metadata": {
    "Collapsed": "false",
    "colab_type": "text",
    "id": "ACFu7w4_Q8OO",
    "jp-MarkdownHeadingCollapsed": true
   },
   "source": [
    "## Búsqueda de ficheros de datos\n",
    "\n",
    "El módulo Python `gwosc.locate` incluye la función `get_event_urls` con la que se puede buscar las rutas de acceso (URLs) a los ficheros de datos asociados con cualquier _dataset_.\n",
    "\n",
    "En el caso de eventos, se puede obtener la lista de URLs usando exclusivamente el nombre del evento:"
   ]
  },
  {
   "cell_type": "code",
   "execution_count": 14,
   "metadata": {
    "Collapsed": "false",
    "colab": {
     "base_uri": "https://localhost:8080/",
     "height": 55
    },
    "colab_type": "code",
    "id": "uMb1bsBNQ8OQ",
    "outputId": "ca3f6a31-5adf-45e5-c86d-e8a4696914d5"
   },
   "outputs": [
    {
     "name": "stdout",
     "output_type": "stream",
     "text": [
      "['https://gwosc.org/eventapi/json/GWTC-1-confident/GW150914/v3/H-H1_GWOSC_4KHZ_R1-1126259447-32.hdf5', 'https://gwosc.org/eventapi/json/GWTC-1-confident/GW150914/v3/H-H1_GWOSC_4KHZ_R1-1126257415-4096.hdf5', 'https://gwosc.org/eventapi/json/GWTC-1-confident/GW150914/v3/L-L1_GWOSC_4KHZ_R1-1126259447-32.hdf5', 'https://gwosc.org/eventapi/json/GWTC-1-confident/GW150914/v3/L-L1_GWOSC_4KHZ_R1-1126257415-4096.hdf5']\n"
     ]
    }
   ],
   "source": [
    "from gwosc.locate import get_event_urls\n",
    "urls = get_event_urls('GW150914')\n",
    "print(urls)"
   ]
  },
  {
   "cell_type": "markdown",
   "metadata": {
    "Collapsed": "false",
    "colab_type": "text",
    "id": "19XV79-XQ8OV"
   },
   "source": [
    "Por defecto esta función devuelve todos los ficheros asociados al evento especificado, lo que no es excesivamente útil. No obstante, podemos filtrar esta lista usando diferentes argumentos en la función y así, por ejemplo, obtener la URL de todos ficheros asociados al detector LIGO-Livingston con duración 32 segundos:"
   ]
  },
  {
   "cell_type": "code",
   "execution_count": 15,
   "metadata": {
    "Collapsed": "false",
    "colab": {
     "base_uri": "https://localhost:8080/",
     "height": 35
    },
    "colab_type": "code",
    "id": "H7MfuRbPQ8OW",
    "outputId": "2fc89919-72db-4bdb-bd4b-e073703cb62a"
   },
   "outputs": [
    {
     "name": "stdout",
     "output_type": "stream",
     "text": [
      "['https://gwosc.org/eventapi/json/GWTC-1-confident/GW150914/v3/L-L1_GWOSC_4KHZ_R1-1126259447-32.hdf5']\n"
     ]
    }
   ],
   "source": [
    "urls = get_event_urls('GW150914', duration=32, detector='L1')\n",
    "print(urls)"
   ]
  },
  {
   "cell_type": "markdown",
   "metadata": {
    "jp-MarkdownHeadingCollapsed": true
   },
   "source": [
    "##  Filtros de búsqueda con parámetros de coalescencia\n",
    "La función `query_events` del módulo `gwosc.datasets` permite obtener una lista de eventos filtrando los resultados según el valor de una serie de parametros relaccionados con la coalescencia de las fuentes de emisión de ondas gravitacionales. Puedes encontrar la lista de parámetros de búsqueda disponibles [aquí](https://gwosc.readthedocs.io/en/stable/reference/gwosc.datasets.query_events.html). \n",
    "\n",
    "Veamos ahora un ejemplo de búsqueda de eventos que han sido detectados con un ratio de señal-ruido (signal to noise ratio, SNR) del filtro adaptado de la red, con valores entre 25 y 30:"
   ]
  },
  {
   "cell_type": "code",
   "execution_count": 16,
   "metadata": {},
   "outputs": [
    {
     "name": "stdout",
     "output_type": "stream",
     "text": [
      "['GW240105_151143-v1', 'GW230627_015337-v1', 'GW200129_065458-v1', 'GW190814-v1', 'GW190814_211039-v3', 'GW190521_074359-v2', 'GW150914-v3']\n"
     ]
    }
   ],
   "source": [
    "from gwosc.datasets import query_events\n",
    "selection = query_events(select=[\"25 <= network-matched-filter-snr <= 30\"])\n",
    "#this is equivalent to \n",
    "#query_events(select=[\"network-matched-filter-snr <= 30\", \"network-matched-filter-snr>= 25\"])\n",
    "print(selection)"
   ]
  },
  {
   "cell_type": "markdown",
   "metadata": {},
   "source": [
    "Ten en cuenta que esta función devuelve la lista de todos los eventos, incluyendo **cada una de sus versiones**, en los cuales el parámetro en cuestión esté disponible y dentro del rango de valores especificados. De ahí que, en este ejemplo, la búsqueda del evento GW190814 devuelva dos resultados, uno para cada versión con SNR entre 25 y 30."
   ]
  },
  {
   "cell_type": "markdown",
   "metadata": {
    "Collapsed": "false",
    "colab_type": "text",
    "id": "r_YLBpR0Q8Oe"
   },
   "source": [
    "# Ejercicios\n",
    "\n",
    "Ahora que has visto diferentes formas de buscar los datos disponibles en el GWOSC usando el paquete de Python `gwosc`, puedes intentar completar los siguentes ejercicios tú mismo: \n",
    "\n",
    "- Cuántos meses duró la campaña de observación O2? (Ayuda: Usa la función _find_datasets(type='run')_ para encontrar el nombre completo de la campaña de observación)\n",
    "- ¿Cuántos eventos del catálogo GWTC-3-confident fueron detectados durante la campaña de observación O3b?\n",
    "- ¿Cuántos eventos han sido detectados con una SNR superior a 30? "
   ]
  },
  {
   "cell_type": "code",
   "execution_count": null,
   "metadata": {},
   "outputs": [],
   "source": []
  }
 ],
 "metadata": {
  "colab": {
   "name": "Módulo 1: Acceso y búsqueda de datos de ondas gravitacionales",
   "provenance": []
  },
  "kernelspec": {
   "display_name": "Python 3 (ipykernel)",
   "language": "python",
   "name": "python3"
  },
  "language_info": {
   "codemirror_mode": {
    "name": "ipython",
    "version": 3
   },
   "file_extension": ".py",
   "mimetype": "text/x-python",
   "name": "python",
   "nbconvert_exporter": "python",
   "pygments_lexer": "ipython3",
   "version": "3.11.6"
  }
 },
 "nbformat": 4,
 "nbformat_minor": 4
}
